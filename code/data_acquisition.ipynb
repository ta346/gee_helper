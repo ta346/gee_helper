{
 "cells": [
  {
   "cell_type": "code",
   "execution_count": null,
   "metadata": {},
   "outputs": [],
   "source": [
    "try:\n",
    "    import geemap, ee\n",
    "except ModuleNotFoundError:\n",
    "    if 'google.colab' in str(get_ipython()):\n",
    "        print(\"package not found, installing w/ pip in Google Colab...\")\n",
    "        !pip install geemap\n",
    "    else:\n",
    "        print(\"package not found, installing w/ conda...\")\n",
    "        !conda install mamba -c conda-forge -y\n",
    "        !mamba install geemap -c conda-forge -y\n",
    "    import geemap, ee"
   ]
  },
  {
   "cell_type": "code",
   "execution_count": null,
   "metadata": {},
   "outputs": [],
   "source": [
    "try:\n",
    "        ee.Initialize()\n",
    "except Exception as e:\n",
    "        ee.Authenticate()\n",
    "        ee.Initialize()"
   ]
  },
  {
   "cell_type": "code",
   "execution_count": null,
   "metadata": {},
   "outputs": [],
   "source": [
    "# import local files\n",
    "import geetools\n",
    "import main\n",
    "import indices"
   ]
  },
  {
   "cell_type": "markdown",
   "metadata": {},
   "source": [
    "### General Workflow\n",
    "\n",
    "1. Import the area of interest (soum shapefile is first uploaded to GEE asset)\n",
    "2. Import mask areas (Soum Seasonal Range Areas)\n",
    "3. Filter data\n",
    "    - Date\n",
    "    - Cloud Coverage\n",
    "    - Best pixel\n",
    "4. Apply functions\n",
    "    - Landsat sensors harmonization\n",
    "    - Cloudless pixels\n",
    "    - Vegetation indices\n",
    "    - Custom masks\n",
    "5. Download datasets per month and year per soum \n"
   ]
  },
  {
   "cell_type": "code",
   "execution_count": null,
   "metadata": {},
   "outputs": [],
   "source": [
    "# Import area of interest\n",
    "# bags = ee.FeatureCollection('users/ta346/mng_grassland/mng_nso_bag')\n",
    "soums = ee.FeatureCollection('users/ta346/mng_boundary_cleaned/mn_soum_cln')"
   ]
  },
  {
   "cell_type": "code",
   "execution_count": null,
   "metadata": {},
   "outputs": [],
   "source": [
    "#import seasonal\n",
    "# winter - 1, summer - 2, pasture-not-used - 3\n",
    "pasture = ee.Image(\"users/ta346/pasture_delineation/pas_raster_new\")\n",
    "# import landcover (20m) tiff image from asset in Google Earth Engine\n",
    "# [10, 20, 60, 80, 100]\n",
    "# search what files are in the GEE asset folder geemap.ee_search()\n",
    "lc2020 = ee.Image('users/ta346/mng_landcover_30m/2020LC30').clip(soums).select('b1')\n",
    "lc2010 = ee.Image('users/ta346/mng_landcover_30m/2010LC30').clip(soums).select('b1')\n",
    "lc2000 = ee.Image('users/ta346/mng_landcover_30m/2000LC30').clip(soums).select('b1')"
   ]
  },
  {
   "cell_type": "code",
   "execution_count": null,
   "metadata": {},
   "outputs": [],
   "source": [
    "# vegetation index interests \n",
    "index_need = ['ndvi', 'evi', 'savi', 'msavi', 'nirv']\n",
    "# create a list of names for mask\n",
    "download = ['sgr', 'wgr', 'gr']"
   ]
  },
  {
   "cell_type": "markdown",
   "metadata": {},
   "source": [
    "### 1. Landsat Collection "
   ]
  },
  {
   "cell_type": "code",
   "execution_count": null,
   "metadata": {},
   "outputs": [],
   "source": [
    "# cloud free landsat collection\n",
    "landsat_collection = main.get_landsat_collection(dateIni='1984-01-01', # initial date\n",
    "                                                        dateEnd='2021-12-31', # end date\n",
    "                                                        box=soums, # area of interest\n",
    "                                                        perc_cover=50, # only images where more than 50% of pixels are cloud free\n",
    "                                                        sensor=[\"LC08\", \"LE07\", \"LT05\"], # search for all available sensors\n",
    "                                                        harmonization=True) # ETM and ETM+ to OLI"
   ]
  },
  {
   "cell_type": "code",
   "execution_count": null,
   "metadata": {},
   "outputs": [],
   "source": [
    "# Compute vegetation indices on cloud free landsat collection\n",
    "landsat_collection = (landsat_collection.map(indices.ndvi(nir= \"SR_B4\", red = \"SR_B3\", bandname = \"ndvi\"))\n",
    "                                   .map(indices.evi(nir = \"SR_B4\", red = \"SR_B3\", blue = \"SR_B1\", G = 2.5, C1 = 6, C2 = 7.5, L=1, bandname='evi'))\n",
    "                                   .map(indices.savi(nir = \"SR_B4\", red = \"SR_B3\", L = 0.5, G = 1.5, bandname=\"savi\"))\n",
    "                                   .map(indices.msavi(nir = \"SR_B4\", red = \"SR_B3\", G = 2, H = 8, L = 1, bandname=\"msavi\"))\n",
    "                                   .map(indices.nirv(nir = \"SR_B4\", red = \"SR_B3\", bandname=\"nirv\"))\n",
    "                                   .map(indices.ndwi(nir = \"SR_B4\", swir = \"SR_B5\", bandname=\"ndwi\")))"
   ]
  },
  {
   "cell_type": "code",
   "execution_count": null,
   "metadata": {},
   "outputs": [],
   "source": [
    "# save each resulting CSV's to Google Drive Folder \n",
    "# this exports landsat collection per year on three different sceneries:\n",
    "    # a. winter grazing ranges (wgr)\n",
    "    # b. summer grazing ranges (sgr)\n",
    "    # c. both grazing ranges (gr)\n",
    "for i in download:\n",
    "    other_mask = pasture\n",
    "    if i == 'wgr':\n",
    "        other_mask_parameter = [2,3]\n",
    "    elif i == 'sgr':\n",
    "        other_mask_parameter = [1,3]\n",
    "    elif i == 'gr':\n",
    "        other_mask_parameter = [0]\n",
    "    file_name = str(i) + \"_\" + \"pasture_vi_soum\"\n",
    "    folder_name = \"LANDSAT\" + \"SOUM_VI_\" + str(i).upper()\n",
    "\n",
    "    comp = main.download_img_col_stats_to_csv_yearly(landsat_collection, \n",
    "                                                    bandnames = index_need, \n",
    "                                                    box = soums, \n",
    "                                                    reducerAll = True,\n",
    "                                                    feat_name='asid', \n",
    "                                                    scale = 30,\n",
    "                                                    tileScale = 1,  \n",
    "                                                    crs = \"EPSG:4326\",\n",
    "                                                    other_mask = other_mask, \n",
    "                                                    other_mask_parameter=other_mask_parameter, \n",
    "                                                    file_name = file_name,\n",
    "                                                    folder_name=folder_name)"
   ]
  },
  {
   "cell_type": "markdown",
   "metadata": {},
   "source": [
    "### 2. MODIS43A"
   ]
  },
  {
   "cell_type": "code",
   "execution_count": null,
   "metadata": {},
   "outputs": [],
   "source": [
    "# modis46A cloudless image collection\n",
    "modis46a = main.get_modis46a_500_collection(dateIni='2002-02-24', \n",
    "                                                dateEnd='2021-12-31', \n",
    "                                                box = soums, \n",
    "                                                quality_mask=True) "
   ]
  },
  {
   "cell_type": "code",
   "execution_count": null,
   "metadata": {},
   "outputs": [],
   "source": [
    "# Compute vegetation indices on cloud free landsat collection\n",
    "modis46a = (modis46a.map(indices.ndvi(nir = \"Nadir_Reflectance_Band2\", red = 'Nadir_Reflectance_Band1', bandname='ndvi'))\n",
    "                .map(indices.evi(nir = 'Nadir_Reflectance_Band2', red = 'Nadir_Reflectance_Band1', blue = 'Nadir_Reflectance_Band3', bandname='evi'))\n",
    "                .map(indices.savi(nir = 'Nadir_Reflectance_Band2', red = 'Nadir_Reflectance_Band1', bandname='savi'))\n",
    "                .map(indices.msavi(nir = 'Nadir_Reflectance_Band2', red = 'Nadir_Reflectance_Band1', bandname='msavi'))\n",
    "                .map(indices.nirv(nir = 'Nadir_Reflectance_Band2', red = 'Nadir_Reflectance_Band1', bandname='nirv')))"
   ]
  },
  {
   "cell_type": "code",
   "execution_count": null,
   "metadata": {},
   "outputs": [],
   "source": [
    "# save each image collection per year\n",
    "for i in download:\n",
    "    other_mask = pasture\n",
    "    if i == 'wgr':\n",
    "        other_mask_parameter = [2,3]\n",
    "    elif i == 'sgr':\n",
    "        other_mask_parameter = [1,3]\n",
    "    elif i == 'gr':\n",
    "        other_mask_parameter = [0]\n",
    "    file_name = str(i) + \"_\" + \"pasture_vi_soum\"\n",
    "    folder_name = \"MODIS43A\" + \"SOUM_VI_\" + str(i).upper()\n",
    "\n",
    "    comp = main.download_img_col_stats_to_csv_yearly(modis46a, \n",
    "                                                    bandnames = index_need, \n",
    "                                                    box = soums, \n",
    "                                                    reducerAll = True,\n",
    "                                                    feat_name='asid', \n",
    "                                                    scale = 1000,\n",
    "                                                    tileScale = 1,  \n",
    "                                                    crs = \"EPSG:4326\",\n",
    "                                                    other_mask = other_mask, \n",
    "                                                    other_mask_parameter=other_mask_parameter, \n",
    "                                                    file_name = file_name,\n",
    "                                                    folder_name=folder_name)"
   ]
  },
  {
   "cell_type": "markdown",
   "metadata": {},
   "source": [
    "### 3. Weather"
   ]
  },
  {
   "cell_type": "code",
   "execution_count": null,
   "metadata": {},
   "outputs": [],
   "source": [
    "# band names\n",
    "select_band = [\"temperature_2m\", \n",
    "               \"snow_cover\", \n",
    "               \"snow_density\", \n",
    "               \"snow_depth\", \n",
    "               \"snow_depth_water_equivalent\", \n",
    "               \"snowfall\", \n",
    "               \"snowmelt\", \n",
    "               \"u_component_of_wind_10m\", \n",
    "               \"v_component_of_wind_10m\", \n",
    "               \"total_precipitation\"]"
   ]
  },
  {
   "cell_type": "code",
   "execution_count": null,
   "metadata": {},
   "outputs": [],
   "source": [
    "# get era5 collection\n",
    "era5 = main.get_era5_collection('1984-01-01', '2021-12-31', soums, select_band)"
   ]
  },
  {
   "cell_type": "code",
   "execution_count": null,
   "metadata": {},
   "outputs": [],
   "source": [
    "# save each image collection as CSV's per month to Google Drive Folder \n",
    "for i in download:\n",
    "    other_mask = pasture\n",
    "    if i == 'wgr':\n",
    "        other_mask_parameter = [2,3]\n",
    "    elif i == 'sgr':\n",
    "        other_mask_parameter = [1,3]\n",
    "    elif i == 'gr':\n",
    "        other_mask_parameter = [0]\n",
    "    file_name = str(i) + \"_\" + \"weather_soum\"\n",
    "    folder_name = \"ERA5_SOUM\" + str(i).upper()\n",
    "\n",
    "    # download each image per year as csv file over area of interest at soum level\n",
    "    comp = main.download_img_col_to_csv_monthly(era5, \n",
    "                                                    startYear = 1984,\n",
    "                                                    endYear = 2021,\n",
    "                                                    startMonth = 1,\n",
    "                                                    endMonth = 12,\n",
    "                                                    bandnames = select_band, \n",
    "                                                    box = soums, \n",
    "                                                    reducerAll = True,\n",
    "                                                    feat_name='asid', \n",
    "                                                    scale = 9000,\n",
    "                                                    tileScale = 1,\n",
    "                                                    other_mask = other_mask,\n",
    "                                                    other_mask_parameter = other_mask_parameter,  \n",
    "                                                    crs = \"EPSG:4326\", \n",
    "                                                    file_name = file_name,\n",
    "                                                    folder_name=folder_name)"
   ]
  },
  {
   "cell_type": "markdown",
   "metadata": {},
   "source": [
    "Download Summer NDVI as Raster Images"
   ]
  },
  {
   "cell_type": "code",
   "execution_count": null,
   "metadata": {},
   "outputs": [],
   "source": [
    "def get_median_summer_ndvi(startYear, endYear, image_collection):\n",
    "    startYear = startYear\n",
    "    endYear = endYear\n",
    "\n",
    "    loopsteps = ee.List.sequence(startYear, endYear,1)\n",
    "\n",
    "    def get_median(year):\n",
    "        iniDate = ee.Date.fromYMD(year, 6, 1)\n",
    "        endDate = iniDate.advance(3, \"month\")\n",
    "\n",
    "        date = iniDate.format(\"YYYY\")\n",
    "        img_col = (image_collection.filter(ee.Filter.date(iniDate, endDate))\n",
    "                                                .select('ndvi')\n",
    "                                                .reduce(ee.Reducer.median())\n",
    "                                                .clip(soums)\n",
    "                                                .set('system:index', date)\n",
    "                                                .set('system:time_start', iniDate.millis())\n",
    "                                                .set('system:time_end', endDate.millis()))\n",
    "        return img_col\n",
    "    \n",
    "    median_composites = ee.ImageCollection.fromImages(loopsteps.map(get_median))\n",
    "\n",
    "    return median_composites"
   ]
  },
  {
   "cell_type": "code",
   "execution_count": null,
   "metadata": {},
   "outputs": [],
   "source": [
    "ls_median_summer_ndvi = get_median_summer_ndvi(1985, 2021, landsat_collection)\n",
    "modis_median_summer_ndvi = get_median_summer_ndvi(2002, 2021, modis46a)"
   ]
  },
  {
   "cell_type": "code",
   "execution_count": null,
   "metadata": {},
   "outputs": [],
   "source": [
    "stack_ls = ls_median_summer_ndvi.toBands()\n",
    "stack_modis = modis_median_summer_ndvi.toBands()"
   ]
  },
  {
   "cell_type": "code",
   "execution_count": null,
   "metadata": {},
   "outputs": [],
   "source": [
    "ls_median_summer_ndvi.getInfo()"
   ]
  },
  {
   "cell_type": "code",
   "execution_count": null,
   "metadata": {},
   "outputs": [],
   "source": [
    "colorizedVis = {\n",
    "  \"min\": 0.0,\n",
    "  \"max\": 1.0,\n",
    "  \"palette\": [\n",
    "    'FFFFFF', 'CE7E45', 'DF923D', 'F1B555', 'FCD163', '99B718', '74A901',\n",
    "    '66A000', '529400', '3E8601', '207401', '056201', '004C00', '023B01',\n",
    "    '012E01', '011D01', '011301'\n",
    "  ]\n",
    "}\n",
    "\n",
    "ls_median_2015 = ls_median_summer_ndvi.filter(ee.Filter.date('2015-01-01', '2015-12-31')).first()\n",
    "ls_median_2016 = ls_median_summer_ndvi.filter(ee.Filter.date('2016-01-01', '2016-12-31')).first()\n",
    "modis_median_2015 = modis_median_summer_ndvi.filter(ee.Filter.date('2015-01-01', '2015-12-31')).first()\n",
    "modis_median_2016 = modis_median_summer_ndvi.filter(ee.Filter.date('2016-01-01', '2016-12-31')).first()\n",
    "\n",
    "left_layer = geemap.ee_tile_layer(stack_ls.select(\"2016_ndvi_median\"), colorizedVis, \"Landsat 2015 (30m): Summer Median NDVI\")\n",
    "right_layer = geemap.ee_tile_layer(stack_modis.select(\"2016_ndvi_median\"), colorizedVis, \"MODIS 2015 (250m): Summer Median NDVI\")\n",
    "\n",
    "Map = geemap.Map()\n",
    "Map.centerObject(soums)\n",
    "Map.addLayer(soums, {}, \"soum boundary\")\n",
    "Map.addLayer(stack_ls.select(\"2021_ndvi_median\"), colorizedVis, \"Landsat 2016 (30m): SUMMER NDVI\")\n",
    "Map.addLayer(stack_modis.select(\"2021_ndvi_median\"), colorizedVis, \"Modis 2016 (30m): SUMMER NDVI\")\n",
    "Map"
   ]
  },
  {
   "cell_type": "code",
   "execution_count": null,
   "metadata": {},
   "outputs": [],
   "source": [
    "era5 = era5.select('temperature_2m', 'total_precipitation')"
   ]
  },
  {
   "cell_type": "code",
   "execution_count": 13,
   "metadata": {},
   "outputs": [],
   "source": [
    "era5.toBands()"
   ]
  },
  {
   "cell_type": "code",
   "execution_count": null,
   "metadata": {},
   "outputs": [],
   "source": [
    "# Export the image, specifying the CRS, transform, and region.\n",
    "task_config = {\n",
    "    'fileNamePrefix': 'era5_stack_weather',\n",
    "    'crs': 'EPSG:4326',\n",
    "    'scale': 9000,\n",
    "    'maxPixels': 10e12,\n",
    "    'fileFormat': 'GeoTIFF',\n",
    "    'skipEmptyTiles': True,\n",
    "    'region': soums.geometry(),\n",
    "    'folder': 'LS_RASTER'\n",
    "    }\n",
    "\n",
    "task = ee.batch.Export.image.toDrive(stack_ls, str('era5_stack'), **task_config)"
   ]
  },
  {
   "cell_type": "code",
   "execution_count": null,
   "metadata": {},
   "outputs": [],
   "source": [
    "task.start()"
   ]
  },
  {
   "cell_type": "code",
   "execution_count": null,
   "metadata": {},
   "outputs": [],
   "source": [
    "task.status()"
   ]
  }
 ],
 "metadata": {
  "interpreter": {
   "hash": "21fa5e253bdcd18fee09e2a9523205eaf4117f21d33bb29bb2671d84689196ee"
  },
  "kernelspec": {
   "display_name": "Python 3.7.12 ('earth-analytics')",
   "language": "python",
   "name": "python3"
  },
  "language_info": {
   "codemirror_mode": {
    "name": "ipython",
    "version": 3
   },
   "file_extension": ".py",
   "mimetype": "text/x-python",
   "name": "python",
   "nbconvert_exporter": "python",
   "pygments_lexer": "ipython3",
   "version": "3.7.12"
  },
  "orig_nbformat": 4
 },
 "nbformat": 4,
 "nbformat_minor": 2
}
